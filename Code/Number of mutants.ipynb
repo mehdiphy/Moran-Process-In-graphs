{
 "cells": [
  {
   "cell_type": "markdown",
   "metadata": {},
   "source": [
    "## Number of Mutant in Moran process\n",
    "\n",
    "In the following cell, the function Moran_mutant(n,m,r) starts the Moran process with a single mutant among structured population.The structure of the population determines by graph G. One can substitute it with any other graph and change the structure of the population. The size of the population is $n$ and the fitness assign by $r$. The output is the time steps that the number of mutant reaches $m$.  The second function (Mean_Moran_mutant(n,m,r,Q)) runs the Moran_mutant(n,m,r) for $Q$ times and average over outputs. "
   ]
  },
  {
   "cell_type": "code",
   "execution_count": 18,
   "metadata": {},
   "outputs": [],
   "source": [
    "import numpy as np\n",
    "import matplotlib.pyplot as plt\n",
    "%matplotlib inline\n",
    "import networkx as nx\n",
    "\n",
    "\n",
    "def Moran_mutant(n,m,r):\n",
    "    G=nx.complete_graph(n)\n",
    "    A=nx.adjacency_matrix(G)\n",
    "    import random\n",
    "    B=[1]\n",
    "    for k in range (0,n-1):\n",
    "        B.append(1)\n",
    "    l=random.randint(0,n-1)\n",
    "    B[l]=-1\n",
    "    t=0\n",
    "    i=1\n",
    "    while i<m:\n",
    "        k=random.random()\n",
    "        if k<(i*r)/(n-i+i*r):\n",
    "            s=random.randint(0,n-1)\n",
    "            j=random.randint(0,n-1)\n",
    "            while B[s]!=-1:\n",
    "                s=random.randint(0,n-1)\n",
    "            if B[s]*B[j]*A[s,j]==-1:\n",
    "                t=t+1\n",
    "                i=i+1 \n",
    "                B[j]=-1\n",
    "                B[s]=-1\n",
    "            elif B[s]*B[j]*A[s,j]==1:\n",
    "                t=t+1\n",
    "        else:\n",
    "            w=random.randint(0,n-1)\n",
    "            q=random.randint(0,n-1)\n",
    "            while B[w]!=1:\n",
    "                w=random.randint(0,n-1)\n",
    "            if B[w]*B[q]*A[w,q]==-1:\n",
    "                if i==1:\n",
    "                    t=0\n",
    "                else:\n",
    "                    t=t+1\n",
    "                    i=i-1 \n",
    "                    B[w]=1\n",
    "                    B[q]=1\n",
    "            elif B[q]*B[w]*A[q,w]==1:\n",
    "                t=t+1      \n",
    "    return(t) \n",
    "\n",
    "\n",
    "def Mean_Moran_mutant(n,m,r,Q):\n",
    "    h=0\n",
    "    for x in range(Q):\n",
    "        h=U(n,m,r)+h\n",
    "    return(h/Q)"
   ]
  },
  {
   "cell_type": "markdown",
   "metadata": {},
   "source": [
    "## Number of Mutant in Moran process (Analytical method)\n",
    "The function Analytical Moran mutant(n,i,r) returns the analytical value of the Morgan Mutant(n,m,r) function but just for the complete graph. for other structure populations, $Mu$ should be modified."
   ]
  },
  {
   "cell_type": "code",
   "execution_count": 16,
   "metadata": {},
   "outputs": [
    {
     "data": {
      "text/plain": [
       "184.57"
      ]
     },
     "execution_count": 16,
     "metadata": {},
     "output_type": "execute_result"
    }
   ],
   "source": [
    "def Analytical_Moran_mutant(n,i,r):\n",
    "    def Mu(n,i,r):\n",
    "        return((n-i)*i/((n-i+i*r)*(n-1)) )\n",
    "\n",
    "    def Ann(n,i,r):\n",
    "        def S(n,j,r):\n",
    "            H=(r**n-r**(n-j)+1-r**j)/((r-1)*(r**n-1))\n",
    "            return(H/Mu(n,j,r))\n",
    "        t=0\n",
    "        for k in range (1,i):\n",
    "            t=t+ S(n,k,r)    \n",
    "        return(t)\n",
    "\n",
    "    def Ann1(n,i,r):\n",
    "        def S(n,i,r):\n",
    "            return((r**(n-i)-1)/((r-1)*(r**n-1)*(r**i-1)))\n",
    "        t=0\n",
    "        for j in range (1,i):\n",
    "            t=t+(r**(i-j)*(r**j-1)**2)/Mu(n,j,r)   \n",
    "        return(S(n,i,r)*t)\n",
    "    return(Ann(n,i,r)-Ann1(n,i,r))"
   ]
  },
  {
   "cell_type": "code",
   "execution_count": 13,
   "metadata": {
    "collapsed": true
   },
   "outputs": [],
   "source": [
    "t=[1]\n",
    "for j in range(2,n):\n",
    "    t.append(j)\n"
   ]
  },
  {
   "cell_type": "code",
   "execution_count": 14,
   "metadata": {
    "collapsed": true
   },
   "outputs": [],
   "source": [
    "ys=[1]\n",
    "for k in range(2,n):\n",
    "    ys.append(Mean_Moran_mutant(100,k,1.5,100)) "
   ]
  },
  {
   "cell_type": "code",
   "execution_count": 15,
   "metadata": {
    "collapsed": true
   },
   "outputs": [],
   "source": [
    "ds=[1]\n",
    "for k in range(2,n):\n",
    "    ds.append(Mean_Moran_mutant(100,k,2,100)) "
   ]
  },
  {
   "cell_type": "code",
   "execution_count": 17,
   "metadata": {
    "collapsed": true
   },
   "outputs": [],
   "source": [
    "ss=[1]\n",
    "for k in range(2,n):\n",
    "    ss.append(Mean_Moran_mutant(100,k,3,100)) "
   ]
  },
  {
   "cell_type": "code",
   "execution_count": 19,
   "metadata": {
    "collapsed": true
   },
   "outputs": [],
   "source": [
    "yt=[1]\n",
    "for k in range(2,n):\n",
    "    yt.append(Analytical_Moran_mutant(100,k,1.5)) \n",
    "\n",
    "dt=[1]\n",
    "for k in range(2,n):\n",
    "    dt.append(Analytical_Moran_mutant(100,k,2)) \n",
    "\n",
    "st=[1]\n",
    "for k in range(2,n):\n",
    "    st.append(Analytical_Moran_mutant(100,k,3)) "
   ]
  },
  {
   "cell_type": "code",
   "execution_count": 22,
   "metadata": {},
   "outputs": [
    {
     "name": "stderr",
     "output_type": "stream",
     "text": [
      "C:\\Users\\Mahdi\\Anaconda3\\lib\\site-packages\\matplotlib\\legend.py:326: UserWarning: Unrecognized location \"below right\". Falling back on \"best\"; valid locations are\n",
      "\tbest\n",
      "\tupper right\n",
      "\tupper left\n",
      "\tlower left\n",
      "\tlower right\n",
      "\tright\n",
      "\tcenter left\n",
      "\tcenter right\n",
      "\tlower center\n",
      "\tupper center\n",
      "\tcenter\n",
      "\n",
      "  % (loc, '\\n\\t'.join(self.codes)))\n"
     ]
    },
    {
     "data": {
      "image/png": "[encoded data removed]",
      "text/plain": [
       "<matplotlib.figure.Figure at 0x1beb1b99278>"
      ]
     },
     "metadata": {},
     "output_type": "display_data"
    }
   ],
   "source": [
    "fig,ax=plt.subplots()\n",
    "ax.plot(ys,t, 'b.',label='simulation r=1.5')\n",
    "ax.plot(ds,t, 'g.',label='simulation r=2')\n",
    "ax.plot(ss,t, 'r.',label=' simulation r=3')\n",
    "ax.plot(yt,t, 'k-',label='analytical approach')\n",
    "ax.plot(dt,t, 'k-')\n",
    "ax.plot(st,t, 'k-')\n",
    "plt.xlabel('Time')\n",
    "plt.ylabel('Number of mutant ')\n",
    "legend=ax.legend(loc='below right')"
   ]
  },
  {
   "cell_type": "code",
   "execution_count": null,
   "metadata": {},
   "outputs": [],
   "source": [
    "\n"
   ]
  }
 ],
 "metadata": {
  "kernelspec": {
   "display_name": "Python 3",
   "language": "python",
   "name": "python3"
  },
  "language_info": {
   "codemirror_mode": {
    "name": "ipython",
    "version": 3
   },
   "file_extension": ".py",
   "mimetype": "text/x-python",
   "name": "python",
   "nbconvert_exporter": "python",
   "pygments_lexer": "ipython3",
   "version": "3.8.5"
  }
 },
 "nbformat": 4,
 "nbformat_minor": 2
}
